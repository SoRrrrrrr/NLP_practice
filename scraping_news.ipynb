{
 "cells": [
  {
   "cell_type": "markdown",
   "metadata": {},
   "source": [
    "뉴스 검색 결과에서 네이버 뉴스 추려내기"
   ]
  },
  {
   "cell_type": "code",
   "execution_count": 2,
   "metadata": {},
   "outputs": [],
   "source": [
    "import requests \n",
    "from urllib.request import urlopen\n",
    "from bs4 import BeautifulSoup\n",
    "\n",
    "import pandas as pd\n",
    "from datetime import datetime \n",
    "import time\n",
    "import re"
   ]
  },
  {
   "cell_type": "code",
   "execution_count": 3,
   "metadata": {},
   "outputs": [],
   "source": [
    "query = '데이터분석'\n",
    "url = \"https://search.naver.com/search.naver?where=news&sm=tab_jum&query=\"+query"
   ]
  },
  {
   "cell_type": "code",
   "execution_count": 4,
   "metadata": {},
   "outputs": [],
   "source": [
    "web = requests.get(url).content\n",
    "source = BeautifulSoup(web, 'html.parser')\n",
    "# print(source)"
   ]
  },
  {
   "cell_type": "code",
   "execution_count": 5,
   "metadata": {},
   "outputs": [
    {
     "name": "stdout",
     "output_type": "stream",
     "text": [
      "['블랙핑크 제니, 1월 빅데이터 걸그룹 개인 브랜드평판 1위', '\"인사행정도 데이터 기반으로\"…익명정보 공유·활용', '생성형 AI 수요 증가에…빅테크, 데이터센터 잇따라 확충', '“日, 달 착륙 성공한 듯...데이터 수집 중”', '세종대, 동계방학 빅데이터 분석 취업실무과정 운영', \"이준석에 '발끈'…선거판 뒤흔들 노인, 충격적으로 늘었다 [신현보의 딥데이터...\", '서울시교육청 “학생 체육활동 데이터, 온라인으로 관리해요”', '기재부, ‘실시간 경기진단이 필요해’…빅데이터 기반 경기진단 시스템 구축...', '방역 통합 정보시스템 개편…대규모 정보 분석 가능해진다', '관세청, 무역 마이데이터 플랫폼 서비스']\n"
     ]
    }
   ],
   "source": [
    "news_subjects = source.find_all('a',{'class':'news_tit'})\n",
    "\n",
    "subject_list = []\n",
    "\n",
    "for subject in news_subjects:\n",
    "    subject_list.append(subject.get_text())\n",
    "print(subject_list)"
   ]
  },
  {
   "cell_type": "code",
   "execution_count": 6,
   "metadata": {},
   "outputs": [
    {
     "data": {
      "text/plain": [
       "{'href': 'http://news.tf.co.kr/read/entertain/2070049.htm',\n",
       " 'class': ['news_tit'],\n",
       " 'target': '_blank',\n",
       " 'onclick': \"return goOtherCR(this, 'a=nws*a.tit&r=1&i=881999s8_000000000000000000262085&g=629.0000262085&u='+urlencode(this.href));\",\n",
       " 'title': '블랙핑크 제니, 1월 빅데이터 걸그룹 개인 브랜드평판 1위'}"
      ]
     },
     "execution_count": 6,
     "metadata": {},
     "output_type": "execute_result"
    }
   ],
   "source": [
    "urls = news_subjects\n",
    "first_article = urls[0]\n",
    "first_article.attrs"
   ]
  },
  {
   "cell_type": "code",
   "execution_count": 7,
   "metadata": {},
   "outputs": [
    {
     "name": "stdout",
     "output_type": "stream",
     "text": [
      "http://news.tf.co.kr/read/entertain/2070049.htm\n",
      "http://www.newsis.com/view/?id=NISX20240119_0002597856&cID=10305&pID=10300\n",
      "https://www.yna.co.kr/view/AKR20240120005900091?input=1195m\n",
      "https://www.etnews.com/20240120000001\n",
      "https://www.kgnews.co.kr/news/article.html?no=778914\n",
      "https://www.hankyung.com/article/2024011961227\n",
      "https://www.etoday.co.kr/news/view/2323012\n",
      "https://www.viva100.com/main/view.php?key=20240121010006655\n",
      "http://www.newsis.com/view/?id=NISX20240119_0002597893&cID=10204&pID=10200\n",
      "http://news.heraldcorp.com/view.php?ud=20240119000420\n"
     ]
    }
   ],
   "source": [
    "# attrs == href ; 해당 뉴스의 링크\n",
    "for urls in source.find_all('a',{'class':\"news_tit\"}):\n",
    "    print(urls.attrs['href'])"
   ]
  },
  {
   "cell_type": "code",
   "execution_count": 8,
   "metadata": {},
   "outputs": [
    {
     "name": "stdout",
     "output_type": "stream",
     "text": [
      "http://www.tf.co.kr/\n",
      "https://n.news.naver.com/mnews/article/629/0000262085?sid=106\n",
      "http://www.newsis.com\n",
      "https://n.news.naver.com/mnews/article/003/0012328363?sid=100\n",
      "https://www.yna.co.kr/\n",
      "https://n.news.naver.com/mnews/article/001/0014456451?sid=104\n",
      "http://www.etnews.com\n",
      "https://n.news.naver.com/mnews/article/030/0003174810?sid=104\n",
      "http://www.kgnews.co.kr/\n",
      "http://www.hankyung.com/\n",
      "https://n.news.naver.com/mnews/article/015/0004939158?sid=100\n",
      "http://www.etoday.co.kr\n",
      "http://www.viva100.com\n",
      "http://www.newsis.com\n",
      "https://n.news.naver.com/mnews/article/003/0012327952?sid=102\n",
      "http://www.heraldbiz.com/\n",
      "https://n.news.naver.com/mnews/article/016/0002254792?sid=101\n"
     ]
    }
   ],
   "source": [
    "for urls in source.find_all('a',{'class':'info'}):\n",
    "    print(urls.attrs['href'])"
   ]
  },
  {
   "cell_type": "code",
   "execution_count": 9,
   "metadata": {},
   "outputs": [
    {
     "name": "stdout",
     "output_type": "stream",
     "text": [
      "https://n.news.naver.com/mnews/article/629/0000262085?sid=106\n",
      "https://n.news.naver.com/mnews/article/003/0012328363?sid=100\n",
      "https://n.news.naver.com/mnews/article/001/0014456451?sid=104\n",
      "https://n.news.naver.com/mnews/article/030/0003174810?sid=104\n",
      "https://n.news.naver.com/mnews/article/015/0004939158?sid=100\n",
      "https://n.news.naver.com/mnews/article/003/0012327952?sid=102\n",
      "https://n.news.naver.com/mnews/article/016/0002254792?sid=101\n"
     ]
    }
   ],
   "source": [
    "for urls in source.find_all('a',{'class':'info'}):\n",
    "    # class 개수가 1개인 링크\n",
    "    if len(urls.attrs['class'])==1:\n",
    "        print(urls.attrs['href'])"
   ]
  },
  {
   "cell_type": "code",
   "execution_count": 10,
   "metadata": {},
   "outputs": [
    {
     "data": {
      "text/plain": [
       "['https://n.news.naver.com/mnews/article/629/0000262085?sid=106',\n",
       " 'https://n.news.naver.com/mnews/article/003/0012328363?sid=100',\n",
       " 'https://n.news.naver.com/mnews/article/001/0014456451?sid=104',\n",
       " 'https://n.news.naver.com/mnews/article/030/0003174810?sid=104',\n",
       " 'https://n.news.naver.com/mnews/article/015/0004939158?sid=100',\n",
       " 'https://n.news.naver.com/mnews/article/003/0012327952?sid=102',\n",
       " 'https://n.news.naver.com/mnews/article/016/0002254792?sid=101']"
      ]
     },
     "execution_count": 10,
     "metadata": {},
     "output_type": "execute_result"
    }
   ],
   "source": [
    "# 네이버 뉴스인 링크만 추려보기\n",
    "urls_list=[]\n",
    "\n",
    "for urls in source.find_all('a',{'class':'info'}):\n",
    "    # in을 쓰는 방법\n",
    "    if urls.attrs['href'].startswith(\"https://n.news.naver.com\"):\n",
    "        urls_list.append(urls.attrs['href'])\n",
    "urls_list"
   ]
  },
  {
   "cell_type": "code",
   "execution_count": null,
   "metadata": {},
   "outputs": [],
   "source": []
  }
 ],
 "metadata": {
  "kernelspec": {
   "display_name": "base",
   "language": "python",
   "name": "python3"
  },
  "language_info": {
   "codemirror_mode": {
    "name": "ipython",
    "version": 3
   },
   "file_extension": ".py",
   "mimetype": "text/x-python",
   "name": "python",
   "nbconvert_exporter": "python",
   "pygments_lexer": "ipython3",
   "version": "3.11.5"
  }
 },
 "nbformat": 4,
 "nbformat_minor": 2
}
